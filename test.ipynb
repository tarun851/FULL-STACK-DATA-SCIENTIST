{
 "cells": [
  {
   "cell_type": "code",
   "execution_count": null,
   "id": "52b41ab4",
   "metadata": {},
   "outputs": [],
   "source": [
    "a=input(\"Enter sentence:\")\n",
    "c=a.lower()\n",
    "b=len(c.split(\" \"))\n",
    "print(\"Total Words = \",b)\n",
    "for i in c:\n",
    "    count+=1\n",
    "    for j in \"aeiou\":\n",
    "        if(i==j):\n",
    "            vcount+=1\n",
    "print(\"Total Characters=\",count)\n",
    "print(\"Total Vowels=\",vcount)"
   ]
  }
 ],
 "metadata": {
  "kernelspec": {
   "display_name": "Python 3",
   "language": "python",
   "name": "python3"
  },
  "language_info": {
   "name": "python",
   "version": "3.11.0"
  }
 },
 "nbformat": 4,
 "nbformat_minor": 5
}
