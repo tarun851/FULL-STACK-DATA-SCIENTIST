{
 "cells": [
  {
   "cell_type": "code",
   "execution_count": null,
   "id": "52b41ab4",
   "metadata": {},
   "outputs": [],
   "source": [
    "count=0\n",
    "vcount=0\n",
    "a=input(\"Enter sentence:\")\n",
    "c=a.lower()\n",
    "b=len(c.split(\" \"))\n",
    "print(\"Total Words = \",b)\n",
    "for i in c:\n",
    "    count+=1\n",
    "    for j in \"aeiou\":\n",
    "        if(i==j):\n",
    "            vcount+=1\n",
    "print(\"Total Characters=\",count)\n",
    "print(\"Total Vowels=\",vcount)"
   ]
  },
  {
   "cell_type": "code",
   "execution_count": 8,
   "id": "baa4c3ca",
   "metadata": {},
   "outputs": [
    {
     "name": "stdout",
     "output_type": "stream",
     "text": [
      "Compound intrest:512.50\n",
      "total Amount:5512.50\n"
     ]
    }
   ],
   "source": [
    "p=int(input(\"Principal=\"))\n",
    "r=int(input(\"Rate=\"))\n",
    "t=int(input(\"Time\"))\n",
    "intrst=input(\"Interest Type=\")\n",
    "si=(p*t*r)/100\n",
    "ci=p*((1+r/100)**t)\n",
    "if(intrst==\"Simple\"):\n",
    "   print(f\"Simple Intrest:{si:.2f}\")\n",
    "   print(f\"Total Amount:{(p+si):.2f}\")\n",
    "elif(intrst==\"Compound\"):\n",
    "   print(f\"Compound intrest:{(ci-p):.2f}\")\n",
    "   print(f\"total Amount:{ci:.2f}\")\n",
    "\n"
   ]
  },
  {
   "cell_type": "code",
   "execution_count": 13,
   "id": "e56cff6c",
   "metadata": {},
   "outputs": [
    {
     "name": "stdout",
     "output_type": "stream",
     "text": [
      "Encrypted Message:KHOOR"
     ]
    }
   ],
   "source": [
    "a=input(\"Message=\")\n",
    "b=int(input(\"Shift=\"))\n",
    "print(\"Encrypted Message:\",end=\"\")\n",
    "for i in a:\n",
    "    t=chr(ord(i)+b)\n",
    "    print(t,end=\"\")\n"
   ]
  },
  {
   "cell_type": "code",
   "execution_count": 14,
   "id": "0f73e281",
   "metadata": {},
   "outputs": [
    {
     "name": "stdout",
     "output_type": "stream",
     "text": [
      "PIN verified.\n",
      "Withdraw Successful.Remaining Balance= 3000\n"
     ]
    }
   ],
   "source": [
    "cpin=1234\n",
    "maxattempts=3\n",
    "for i in range(maxattempts):\n",
    "    pin=int(input(\"PIN=\"))\n",
    "    if(pin==cpin):\n",
    "        print(\"PIN verified.\")\n",
    "        break\n",
    "    elif(pin!=cpin):\n",
    "        print(\"Wrong pin ,Try Again!\")\n",
    "else:\n",
    "    print(\"too many attempts try after 10 min\")\n",
    "a=int(input(\"Balance=\"))\n",
    "b=int(input(\"Withdraw=\"))\n",
    "if(a>=b):\n",
    "    print(\"Withdraw Successful.Remaining Balance=\",a-b)\n",
    "else:\n",
    "    print(\"Insufficient Balance\")\n"
   ]
  },
  {
   "cell_type": "code",
   "execution_count": null,
   "id": "89d3c9d7",
   "metadata": {},
   "outputs": [
    {
     "ename": "TypeError",
     "evalue": "'str' object cannot be interpreted as an integer",
     "output_type": "error",
     "traceback": [
      "\u001b[31m---------------------------------------------------------------------------\u001b[39m",
      "\u001b[31mTypeError\u001b[39m                                 Traceback (most recent call last)",
      "\u001b[36mCell\u001b[39m\u001b[36m \u001b[39m\u001b[32mIn[7]\u001b[39m\u001b[32m, line 9\u001b[39m\n\u001b[32m      7\u001b[39m \u001b[38;5;28;01melif\u001b[39;00m(a==\u001b[32m2\u001b[39m):\n\u001b[32m      8\u001b[39m     removebook=\u001b[38;5;28minput\u001b[39m(\u001b[33m\"\u001b[39m\u001b[33mRemove Book:\u001b[39m\u001b[33m\"\u001b[39m)\n\u001b[32m----> \u001b[39m\u001b[32m9\u001b[39m     \u001b[43mbooks\u001b[49m\u001b[43m.\u001b[49m\u001b[43mpop\u001b[49m\u001b[43m(\u001b[49m\u001b[43mremovebook\u001b[49m\u001b[43m)\u001b[49m\n\u001b[32m     10\u001b[39m \u001b[38;5;28;01melif\u001b[39;00m(a==\u001b[32m3\u001b[39m):\n\u001b[32m     11\u001b[39m     \u001b[38;5;28mprint\u001b[39m(\u001b[33m\"\u001b[39m\u001b[33mCurrent Books:\u001b[39m\u001b[33m\"\u001b[39m,books)\n",
      "\u001b[31mTypeError\u001b[39m: 'str' object cannot be interpreted as an integer"
     ]
    }
   ],
   "source": [
    "books=[\"python basics\",\"Data Science\",\"Ai Fundamentals\"]\n",
    "while(True):\n",
    "    a=int(input(\"1.add book\\n2.remove book\\n3.display\"))\n",
    "    if(a==1):\n",
    "        addbook=input(\"Add book:\")\n",
    "        books.append(addbook)\n",
    "    elif(a==2):\n",
    "        removebook=input(\"Remove Book:\")\n",
    "        books.remove(removebook)\n",
    "    elif(a==3):\n",
    "        print(\"Current Books:\",books)\n",
    "        print(\"Total Books:\",len(books))\n",
    "        break\n",
    "\n",
    "\n",
    "\n"
   ]
  }
 ],
 "metadata": {
  "kernelspec": {
   "display_name": "Python 3",
   "language": "python",
   "name": "python3"
  },
  "language_info": {
   "codemirror_mode": {
    "name": "ipython",
    "version": 3
   },
   "file_extension": ".py",
   "mimetype": "text/x-python",
   "name": "python",
   "nbconvert_exporter": "python",
   "pygments_lexer": "ipython3",
   "version": "3.11.0"
  }
 },
 "nbformat": 4,
 "nbformat_minor": 5
}
