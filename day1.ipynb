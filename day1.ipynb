{
 "cells": [
  {
   "cell_type": "code",
   "execution_count": 8,
   "id": "4de3ab4d",
   "metadata": {},
   "outputs": [
    {
     "name": "stdout",
     "output_type": "stream",
     "text": [
      "the prime numbers upto 10: 2 3 5 7 "
     ]
    }
   ],
   "source": [
    "def prime(n):\n",
    "    count=0\n",
    "    for i in range(1,n+1):\n",
    "        for j in range(1,i+1):\n",
    "            if(i%j==0):\n",
    "                count+=1\n",
    "        if(count==2):\n",
    "            print(i,end=\" \")\n",
    "        count=0\n",
    "a=int(input(\"Enter the number to print series of prime numbers:\"))\n",
    "print(f\"the prime numbers upto {a}:\",end=\" \")\n",
    "prime(a)"
   ]
  },
  {
   "cell_type": "code",
   "execution_count": 18,
   "id": "9a2cb403",
   "metadata": {},
   "outputs": [
    {
     "name": "stdout",
     "output_type": "stream",
     "text": [
      "neveroddoreven\n",
      "palindrome\n"
     ]
    }
   ],
   "source": [
    "def palindrome(a):\n",
    "    b=\"\".join(a.split(\" \")).lower()\n",
    "    print(b)\n",
    "    c=b[::-1]\n",
    "    if(b==c):\n",
    "        print(\"palindrome\")\n",
    "    else:\n",
    "        print(\"not a palindrome\")\n",
    "z=input(\"Enter the string to check whether it is a palindrome or not:\")\n",
    "palindrome(z)"
   ]
  },
  {
   "cell_type": "code",
   "execution_count": null,
   "id": "77bfcdd0",
   "metadata": {},
   "outputs": [
    {
     "name": "stdout",
     "output_type": "stream",
     "text": [
      "listen isanagram of silent\n"
     ]
    }
   ],
   "source": [
    "def anagram(a,b):\n",
    "    if(sorted(a)==sorted(b)):\n",
    "        print(f\"{a} is anagram of {b}\" )\n",
    "    else:\n",
    "        print(\"not an anagram\")\n",
    "c=input(\"enter c:\")\n",
    "d=input(\"enter d:\")\n",
    "anagram(c,d)"
   ]
  },
  {
   "cell_type": "code",
   "execution_count": 25,
   "id": "96c97346",
   "metadata": {},
   "outputs": [
    {
     "name": "stdout",
     "output_type": "stream",
     "text": [
      "Total number of vowels= 2\n",
      "Total number of consonants= 3\n"
     ]
    }
   ],
   "source": [
    "def vowelconsonant(a):\n",
    "    vcount=0\n",
    "    ccount=0\n",
    "    j=\"aeiou\"\n",
    "    for i in a.lower():\n",
    "            if(i in j):\n",
    "                vcount+=1\n",
    "            elif (i!=\" \"):\n",
    "                ccount+=1\n",
    "    print(\"Total number of vowels=\",vcount)\n",
    "    print(\"Total number of consonants=\",ccount)\n",
    "c=input(\"Enter the string to count number of vowels and consonants:\")\n",
    "vowelconsonant(c)\n"
   ]
  },
  {
   "cell_type": "code",
   "execution_count": 28,
   "id": "e634843e",
   "metadata": {},
   "outputs": [
    {
     "name": "stdout",
     "output_type": "stream",
     "text": [
      "logest word is: amazing\n"
     ]
    }
   ],
   "source": [
    "def longestword(a):\n",
    "    b=a.split(\" \")\n",
    "    for i in b:\n",
    "        l=\"\"\n",
    "        if(len(i)>len(l)):\n",
    "            l=i\n",
    "    print(\"logest word is:\",l)\n",
    "a=input(\"enter a string:\")\n",
    "longestword(a)\n",
    "\n",
    "        \n"
   ]
  },
  {
   "cell_type": "code",
   "execution_count": 40,
   "id": "0d16c0fc",
   "metadata": {},
   "outputs": [
    {
     "name": "stdout",
     "output_type": "stream",
     "text": [
      "orhh@C"
     ]
    }
   ],
   "source": [
    "import re\n",
    "import random as rd\n",
    "a=int(input(\"Enter a number:\"))\n",
    "keyboard_chars = (\n",
    "    \"abcdefghijklmnopqrstuvwxyz\"      \n",
    "    \"ABCDEFGHIJKLMNOPQRSTUVWXYZ\"      \n",
    "    \"0123456789\"                      \n",
    "    \"`~!@#$%^&*()-_=+[{]}\\\\|;:'\\\",<.>/? \"  \n",
    "                             \n",
    ")\n",
    "\n",
    "for i in range(a):\n",
    "    print(rd.choice(keyboard_chars),end=\"\" )"
   ]
  },
  {
   "cell_type": "code",
   "execution_count": 46,
   "id": "58ca7303",
   "metadata": {},
   "outputs": [
    {
     "name": "stdout",
     "output_type": "stream",
     "text": [
      "The square root of 5= 2.23606797749979\n",
      "The factorial of 5= 120\n",
      "The sine of 5= -0.9589242746631385\n",
      "The cosine of 5= 0.28366218546322625\n"
     ]
    }
   ],
   "source": [
    "from math import sqrt,factorial,sin,cos\n",
    "a=int(input(\"enter a:\"))\n",
    "print(f\"The square root of {a}=\",sqrt(a))\n",
    "print(f\"The factorial of {a}=\",factorial(a))\n",
    "print(f\"The sine of {a}=\",sin(a))\n",
    "print(f\"The cosine of {a}=\",cos(a))"
   ]
  },
  {
   "cell_type": "code",
   "execution_count": 47,
   "id": "4c9ba046",
   "metadata": {},
   "outputs": [
    {
     "name": "stdout",
     "output_type": "stream",
     "text": [
      "Counter({'Cat': 2, 'Dog': 1, 'DOg': 1})\n"
     ]
    }
   ],
   "source": [
    "from collections import Counter\n",
    "a=input(\"enter space seperated string\").split(\" \")\n",
    "c=Counter(a)\n",
    "print(c)\n",
    "\n"
   ]
  },
  {
   "cell_type": "code",
   "execution_count": 1,
   "id": "8c9ef498",
   "metadata": {},
   "outputs": [
    {
     "name": "stdout",
     "output_type": "stream",
     "text": [
      "weather:stormy,Temperature:45\n"
     ]
    }
   ],
   "source": [
    "import random as rd\n",
    "def weather():\n",
    "    w=rd.choice([\"sunny\",\"rainy\",\"stormy\",\"cloudy\"])\n",
    "    t=rd.randint(22,50)\n",
    "    return f\"weather:{w},Temperature:{t}\"\n",
    "print(weather())"
   ]
  },
  {
   "cell_type": "code",
   "execution_count": 48,
   "id": "45724782",
   "metadata": {},
   "outputs": [
    {
     "name": "stdout",
     "output_type": "stream",
     "text": [
      "5\n",
      "4\n",
      "3\n",
      "2\n",
      "1\n"
     ]
    }
   ],
   "source": [
    "import time\n",
    "a=int(input(\"Enter time:\"))\n",
    "while (a>0):\n",
    "    print(a)\n",
    "    time.sleep(1)\n",
    "    a=a-1\n"
   ]
  },
  {
   "cell_type": "code",
   "execution_count": 3,
   "id": "7a27c489",
   "metadata": {},
   "outputs": [
    {
     "name": "stdout",
     "output_type": "stream",
     "text": [
      "amount deposited 50\n",
      "amount withdrawn is 30\n",
      "Balance: 120\n"
     ]
    }
   ],
   "source": [
    "class BankAccount:\n",
    "    def __init__(self,balance=0,owner=None):\n",
    "        self.balance=balance\n",
    "        self.owner=owner\n",
    "    def deposit(self,amount):\n",
    "        self.balance+=amount\n",
    "        print(f\"amount deposited {amount}\")\n",
    "    def withdraw(self,amount):\n",
    "        if(amount<=self.balance):\n",
    "            self.balance-=amount\n",
    "            print(f\"amount withdrawn is {amount}\")\n",
    "    def get_balance(self):\n",
    "        print(\"Balance:\",self.balance)\n",
    "acc=BankAccount(100)\n",
    "acc.deposit(50)\n",
    "acc.withdraw(30)\n",
    "acc.get_balance()\n",
    "        "
   ]
  },
  {
   "cell_type": "code",
   "execution_count": 5,
   "id": "0c01cedf",
   "metadata": {},
   "outputs": [
    {
     "name": "stdout",
     "output_type": "stream",
     "text": [
      "average of marks: 85.0\n",
      "marks added to the list: [90, 80, 85, 95]\n",
      "highest marks: 95\n",
      "lowest marks: 80\n"
     ]
    }
   ],
   "source": [
    "class Student:\n",
    "    def __init__(self,name=None,marks=[]):\n",
    "        self.name=name\n",
    "        self.marks=marks\n",
    "    def get_average(self):\n",
    "        print(\"average of marks:\",sum(self.marks)/len(self.marks))\n",
    "    def add_marks(self,mark):\n",
    "        self.marks.append(mark)\n",
    "        print(\"marks added to the list:\",self.marks)\n",
    "    def get_highest(self):\n",
    "        print(\"highest marks:\",max(self.marks))\n",
    "    def get_lowest(self):\n",
    "        print(\"lowest marks:\",min(self.marks))\n",
    "stu=Student(\"Tom\",[90,80,85])\n",
    "stu.get_average()\n",
    "stu.add_marks(95)\n",
    "stu.get_highest()\n",
    "stu.get_lowest()\n",
    "\n",
    "        "
   ]
  },
  {
   "cell_type": "code",
   "execution_count": 6,
   "id": "182e2705",
   "metadata": {},
   "outputs": [
    {
     "name": "stdout",
     "output_type": "stream",
     "text": [
      "10000.0\n"
     ]
    }
   ],
   "source": [
    "class Manager:\n",
    "    def __init__(self,name=None,salary=0):\n",
    "        self.name=name\n",
    "        self.salary=salary\n",
    "    def bonus(self):\n",
    "            return self.salary*0.2\n",
    "class Developer:\n",
    "    def __init__(self,name=None,salary=0):\n",
    "        self.name=name\n",
    "        self.salary=salary\n",
    "    def bonus(self):\n",
    "            return self.salary*0.1\n",
    "class Intern:\n",
    "    def __init__(self,name=None,salary=0):\n",
    "        self.name=name\n",
    "        self.salary=salary\n",
    "    def bonus(self):\n",
    "             return self.salary*0.05\n",
    "m=Manager(\"Alice\",50000)\n",
    "print(m.bonus())\n",
    "        "
   ]
  },
  {
   "cell_type": "code",
   "execution_count": 8,
   "id": "99d282bc",
   "metadata": {},
   "outputs": [
    {
     "name": "stdout",
     "output_type": "stream",
     "text": [
      "153.93804002589985\n",
      "20\n"
     ]
    }
   ],
   "source": [
    "import math\n",
    "class Shape:\n",
    "    def __init__(self,name):\n",
    "        self.name=name\n",
    "    def area(self):\n",
    "        pass\n",
    "    def display(self):\n",
    "        print(f\"{self.name} with area:{self.area}\")\n",
    "class Rectangle(Shape):\n",
    "    def __init__(self,height,width):\n",
    "        self.height=height\n",
    "        self.width=width\n",
    "        super().__init__(\"rectangle\")\n",
    "    def area(self):\n",
    "        return self.height*self.width\n",
    "class Circle(Shape):\n",
    "    def __init__(self,radius):\n",
    "        self.radius=radius\n",
    "        super().__init__(\"cirlce\")\n",
    "    def area(self):\n",
    "        return math.pi*self.radius*self.radius\n",
    "c=Circle(7)\n",
    "print(c.area())\n",
    "r=Rectangle(4,5)\n",
    "print(r.area())"
   ]
  },
  {
   "cell_type": "code",
   "execution_count": 15,
   "id": "848c48be",
   "metadata": {},
   "outputs": [
    {
     "name": "stdout",
     "output_type": "stream",
     "text": [
      "Total: 2000\n"
     ]
    }
   ],
   "source": [
    "class order:\n",
    "    def __init__(self,items={}):\n",
    "        self.items=items\n",
    "    def add(self,aitem,price):\n",
    "        self.items[aitem]=price\n",
    "    def remove_dic(self,ritem):\n",
    "        return self.items.pop(ritem)\n",
    "    def Calculate_total(self):\n",
    "        sum=0\n",
    "        for price in self.items.values():\n",
    "            sum+=price\n",
    "        return sum\n",
    "order=order()\n",
    "order.add(\"shirt\",500)\n",
    "order.add(\"shoes\",1500)\n",
    "print(\"Total:\",order.Calculate_total())\n",
    "\n",
    "\n",
    "        \n"
   ]
  },
  {
   "cell_type": "code",
   "execution_count": 2,
   "id": "003427e6",
   "metadata": {},
   "outputs": [
    {
     "name": "stdout",
     "output_type": "stream",
     "text": [
      "[0, 1, 1, 2, 3, 5, 8]\n"
     ]
    }
   ],
   "source": [
    "def fibonacci(n,a):\n",
    "    b=0\n",
    "    c=1\n",
    "    d=0\n",
    "    a.append(b)\n",
    "    a.append(c)\n",
    "    for i in range(2,n):\n",
    "        d=b+c\n",
    "        b=c\n",
    "        c=d\n",
    "        a.append(d)\n",
    "    return a\n",
    "b=[]\n",
    "a=int(input(\"Enter a number to get a fibonacci series:\"))\n",
    "print(fibonacci(a,b))\n",
    "        \n",
    "\n",
    "\n",
    "        "
   ]
  },
  {
   "cell_type": "code",
   "execution_count": 4,
   "id": "0c9dec37",
   "metadata": {},
   "outputs": [
    {
     "name": "stdout",
     "output_type": "stream",
     "text": [
      "factorial of 5:120\n"
     ]
    }
   ],
   "source": [
    "def factorial(n):\n",
    "    if n==1:\n",
    "        return 1\n",
    "    else:\n",
    "        return n*factorial(n-1)\n",
    "a=int(input(\"ENter a number to print fibonacci series:\"))\n",
    "print(f\"factorial of {a}:{factorial(a)}\")"
   ]
  },
  {
   "cell_type": "code",
   "execution_count": 7,
   "id": "f61ee568",
   "metadata": {},
   "outputs": [
    {
     "name": "stdout",
     "output_type": "stream",
     "text": [
      "{'apple': 2, 'banana': 2, 'orange': 1}\n"
     ]
    }
   ],
   "source": [
    "from collections import Counter\n",
    "def unique(a):\n",
    "    b=a.split(\" \")\n",
    "    c=Counter(b)\n",
    "    return dict(c)\n",
    "a=input(\"Enter a string:\")\n",
    "print(unique(a))"
   ]
  },
  {
   "cell_type": "code",
   "execution_count": 2,
   "id": "b005953f",
   "metadata": {},
   "outputs": [
    {
     "name": "stdout",
     "output_type": "stream",
     "text": [
      "grade:B\n"
     ]
    }
   ],
   "source": [
    "def grade(marks):\n",
    "    a=sum(marks)/len(marks)\n",
    "    if a>=90:\n",
    "        print(\"grade:A\")\n",
    "    elif(a>=80):\n",
    "        print(\"grade:B\")\n",
    "    elif(a>=70):\n",
    "        print(\"grade:C\")\n",
    "    elif(a>=50):\n",
    "        print(\"grade:D\")\n",
    "    elif(a<50):\n",
    "        print(\"grade:fail\")\n",
    "b=input(\"Enter space seperated marks\")\n",
    "a=[int(x) for x in b.split(\" \")]\n",
    "grade(a)"
   ]
  },
  {
   "cell_type": "code",
   "execution_count": 6,
   "id": "f4acee31",
   "metadata": {},
   "outputs": [
    {
     "data": {
      "text/plain": [
       "10"
      ]
     },
     "execution_count": 6,
     "metadata": {},
     "output_type": "execute_result"
    }
   ],
   "source": [
    "def secondlargest(a):\n",
    "    b=sorted(a)\n",
    "    return b[-2]\n",
    "a=input(\"Enter , seperated string\")\n",
    "l=[int(x) for x in a.split(\",\")]\n",
    "secondlargest(l)"
   ]
  },
  {
   "cell_type": "code",
   "execution_count": 12,
   "id": "8bb954de",
   "metadata": {},
   "outputs": [
    {
     "name": "stdout",
     "output_type": "stream",
     "text": [
      "Total .txt files: 2\n",
      "Total .py files: 2\n"
     ]
    }
   ],
   "source": [
    "import os\n",
    "tcount=0\n",
    "pcount=0\n",
    "os.mkdir(\"notes.txt\")\n",
    "os.mkdir(\"app.py\")\n",
    "os.mkdir(\"data.csv\")\n",
    "os.mkdir(\"report.txt\")\n",
    "os.mkdir(\"main.py\")\n",
    "for i in os.listdir(\".\"):\n",
    "    if i.endswith(\".txt\"):\n",
    "        tcount+=1\n",
    "    elif i.endswith(\".py\"):\n",
    "        pcount+=1\n",
    "print(\"Total .txt files:\",tcount)\n",
    "print(\"Total .py files:\",pcount)"
   ]
  },
  {
   "cell_type": "code",
   "execution_count": 14,
   "id": "dab2e45d",
   "metadata": {},
   "outputs": [
    {
     "name": "stdout",
     "output_type": "stream",
     "text": [
      "mean of the given marks:87.86\n",
      "median of the given marks:90\n",
      "variance of the given marks:73.81\n"
     ]
    }
   ],
   "source": [
    "import statistics as st \n",
    "a=input(\"Enter , seperated marks\")\n",
    "l=[int(x) for x in a.split(\",\")]\n",
    "print(f\"mean of the given marks:{st.mean(l):.2f}\")\n",
    "print(f\"median of the given marks:{st.median(l)}\")\n",
    "print(f\"variance of the given marks:{st.variance(l):.2f}\")\n",
    "\n"
   ]
  },
  {
   "cell_type": "code",
   "execution_count": null,
   "id": "88fb6324",
   "metadata": {},
   "outputs": [
    {
     "name": "stdout",
     "output_type": "stream",
     "text": [
      "root are2.0 and 1.0\n"
     ]
    }
   ],
   "source": [
    "import math\n",
    "a=int(input(\"a:\"))\n",
    "b=int(input(\"b:\"))\n",
    "c=int(input(\"c:\"))\n",
    "dis=b**2-4*a*c\n",
    "if dis>0:\n",
    "    root1=(-b+math.sqrt(dis))/(2*a)\n",
    "    root2=(-b-math.sqrt(dis))/(2*a)\n",
    "    print(f\"root are {root1} and {root2}\")\n",
    "elif(dis==0):\n",
    "    root=-b/(2*a)\n",
    "    print(f\"roots are same an it is :{root}\")\n",
    "else:\n",
    "    print(\"no real roots exist\")"
   ]
  },
  {
   "cell_type": "code",
   "execution_count": 20,
   "id": "f1a1d1a9",
   "metadata": {},
   "outputs": [
    {
     "name": "stdout",
     "output_type": "stream",
     "text": [
      "you choode Scissor,Computer choose Paper\n",
      "You Win!\n"
     ]
    }
   ],
   "source": [
    "import random\n",
    "a=input(\"Enter Rock/paper.scissor\")\n",
    "l=[\"Rock\",\"Paper\",\"Scissor\"]\n",
    "b=random.choice(l)\n",
    "print(f\"you choode {a},Computer choose {b}\")\n",
    "if(a==\"Rock\" and b==\"Paper\" or a==\"paper\" and b==\"scissor\"or  a==\"Scissor\" and b==\"Rock\"):\n",
    "    print(\"Computer Wins!\")\n",
    "elif(a==b):\n",
    "    print(\"Draw\")\n",
    "else:\n",
    "    print(\"You Win!\")\n",
    "\n"
   ]
  },
  {
   "cell_type": "code",
   "execution_count": 5,
   "id": "c4714a38",
   "metadata": {},
   "outputs": [
    {
     "name": "stdout",
     "output_type": "stream",
     "text": [
      "{'python101': 2, 'DataScience': 2}\n",
      "{'python101': 3, 'DataScience': 2}\n"
     ]
    }
   ],
   "source": [
    "class Library:\n",
    "    def __init__(self,books={}):\n",
    "        self.books=books\n",
    "    def borrow(self,title):\n",
    "        if title in self.books:\n",
    "            if self.books[title]>0:\n",
    "                self.books[title]-=1\n",
    "            else:\n",
    "                print(\"book stock not available\")\n",
    "        else:\n",
    "            print(\"book doest exist in library\")\n",
    "    def return_book(self,title):\n",
    "        self.books[title]+=1\n",
    "    def show_books(self):\n",
    "        return self.books\n",
    "lib=Library({\"python101\":3,\"DataScience\":2})\n",
    "lib.borrow(\"python101\")\n",
    "print(lib.show_books())\n",
    "lib.return_book(\"python101\")\n",
    "print(lib.show_books())\n",
    "      "
   ]
  },
  {
   "cell_type": "code",
   "execution_count": 6,
   "id": "c95ac3a1",
   "metadata": {},
   "outputs": [
    {
     "name": "stdout",
     "output_type": "stream",
     "text": [
      "Access Granted\n",
      "Amount deposited :200\n",
      "withdraw:100\n",
      "Balance: 600\n"
     ]
    }
   ],
   "source": [
    "class ATM:\n",
    "    def __init__(self,balance=0,pin=0):\n",
    "        self.balance=balance\n",
    "        self.pin=pin\n",
    "    def login(self,pin):\n",
    "        if(pin==self.pin):\n",
    "            print(\"Access Granted\")\n",
    "        else:\n",
    "            print(\"Access denied\")\n",
    "    def check_Balance(self):\n",
    "        print(\"Balance:\",self.balance)\n",
    "    def deposit(self,amount):\n",
    "        print(f\"Amount deposited :{amount}\")\n",
    "        self.balance+=amount\n",
    "    def withdraw(self,amount):\n",
    "        if(amount<self.balance):\n",
    "            print(f\"withdraw:{amount}\")\n",
    "            self.balance-=amount\n",
    "        else:\n",
    "            print(\"insufficient balance\")\n",
    "atm=ATM(500,1234)\n",
    "atm.login(1234)\n",
    "atm.deposit(200)\n",
    "atm.withdraw(100)\n",
    "atm.check_Balance()\n",
    "\n",
    "    "
   ]
  },
  {
   "cell_type": "code",
   "execution_count": 8,
   "id": "7a198a9c",
   "metadata": {},
   "outputs": [
    {
     "name": "stdout",
     "output_type": "stream",
     "text": [
      "Dr.Smith is teaching python\n",
      "Alice enrolled in Python\n",
      "Dr.Smith assigned:project 1\n",
      "Alice submitted:Project 1\n"
     ]
    }
   ],
   "source": [
    "class professor:\n",
    "    def __init__(self,name=None,subject=None):\n",
    "        self.name=name\n",
    "        self.subject=subject\n",
    "    def teach(self,course):\n",
    "        print(f\"{self.name} is teaching {course}\")\n",
    "    def give_assignment(self,task):\n",
    "        print(f\"{self.name} assigned:{task}\")\n",
    "class student:\n",
    "    def __init__(self,name=None,course=None,assignments=None):\n",
    "        self.name=name\n",
    "        self.course=course\n",
    "        self.assignments=assignments\n",
    "    def enroll(self,course):\n",
    "        print(f\"{self.name} enrolled in {course}\" )\n",
    "    def submit_assignment(self,task):\n",
    "        print(f\"{self.name} submitted:{task}\")\n",
    "prof=professor(\"Dr.Smith\",\"Computer Science\")\n",
    "stud=student(\"Alice\")\n",
    "prof.teach(\"python\")\n",
    "stud.enroll(\"Python\")\n",
    "prof.give_assignment(\"project 1\")\n",
    "stud.submit_assignment(\"Project 1\")\n",
    "\n",
    "\n",
    "        \n"
   ]
  },
  {
   "cell_type": "code",
   "execution_count": 10,
   "id": "007528af",
   "metadata": {},
   "outputs": [
    {
     "name": "stdout",
     "output_type": "stream",
     "text": [
      "booked 2 tickets for Avatar\n",
      "canncelled 1 ticket for Avatar\n",
      "{'Avatar': 1, 'Batman': 5}\n"
     ]
    }
   ],
   "source": [
    "class Cinema:\n",
    "    def __init__(self,movies={}):\n",
    "        self.movies=movies\n",
    "    def book(self,movie,seats):\n",
    "        if movie in self.movies:\n",
    "            if self.movies[movie]>0:\n",
    "                self.movies[movie]-=seats\n",
    "                return f\"booked {seats} tickets for {movie}\"\n",
    "            else:\n",
    "                print(\"Tickets not available\")\n",
    "        else:\n",
    "            print(\"movie is not available in this theatre\")\n",
    "    def cancel(self,movie,seats):\n",
    "         self.movies[movie]+=seats\n",
    "         return f\"canncelled {seats} ticket for {movie}\"\n",
    "    def show_movies(self):\n",
    "        return self.movies\n",
    "cinema=Cinema({\"Avatar\":2,\"Batman\":5})\n",
    "print(cinema.book(\"Avatar\",2))\n",
    "print(cinema.cancel(\"Avatar\",1))\n",
    "print(cinema.show_movies())\n",
    "    \n",
    "        \n",
    "        "
   ]
  },
  {
   "cell_type": "code",
   "execution_count": 11,
   "id": "d8f09bb6",
   "metadata": {},
   "outputs": [
    {
     "name": "stdout",
     "output_type": "stream",
     "text": [
      "Burger added\n",
      "Pizza added\n",
      "Pizza price updated 250\n",
      "Burger removed\n",
      "{'Pizza': 250}\n"
     ]
    }
   ],
   "source": [
    "class Menu:\n",
    "    def __init__(self,items={}):\n",
    "        self.items=items\n",
    "    def add_item(self,name,price):\n",
    "        self.items[name]=price\n",
    "        return f\"{name} added\"\n",
    "    def remove_item(self,name):\n",
    "        if name in self.items:\n",
    "            self.items.pop(name)\n",
    "            return f\"{name} removed\"\n",
    "        else:\n",
    "            print(\"item doesn't exist\")\n",
    "    def update_price(self,name,new_price):\n",
    "        if name in self.items:\n",
    "            self.items[name]=new_price\n",
    "            return f\"{name} price updated {new_price}\"\n",
    "        else:\n",
    "            print(\"item doesn't exist\")\n",
    "    def show_menu(self):\n",
    "        return self.items\n",
    "menu=Menu()\n",
    "print(menu.add_item(\"Burger\",100))\n",
    "print(menu.add_item(\"Pizza\",200))\n",
    "print(menu.update_price(\"Pizza\",250))\n",
    "print(menu.remove_item(\"Burger\"))\n",
    "print(menu.show_menu())\n",
    "\n"
   ]
  }
 ],
 "metadata": {
  "kernelspec": {
   "display_name": "base",
   "language": "python",
   "name": "python3"
  },
  "language_info": {
   "codemirror_mode": {
    "name": "ipython",
    "version": 3
   },
   "file_extension": ".py",
   "mimetype": "text/x-python",
   "name": "python",
   "nbconvert_exporter": "python",
   "pygments_lexer": "ipython3",
   "version": "3.12.7"
  }
 },
 "nbformat": 4,
 "nbformat_minor": 5
}
