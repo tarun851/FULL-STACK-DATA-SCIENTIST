{
 "cells": [
  {
   "cell_type": "code",
   "execution_count": 4,
   "id": "567fe21b",
   "metadata": {},
   "outputs": [
    {
     "name": "stdout",
     "output_type": "stream",
     "text": [
      "Total words in file is: 7\n"
     ]
    }
   ],
   "source": [
    "total_words=0\n",
    "with open (\"b.txt\",\"r\") as f:\n",
    "    for line in f:\n",
    "        words=line.split()\n",
    "        total_words+=len(words)\n",
    "print(\"Total words in file is:\",total_words)\n",
    "\n"
   ]
  },
  {
   "cell_type": "code",
   "execution_count": 18,
   "id": "fe08ae71",
   "metadata": {},
   "outputs": [
    {
     "name": "stdout",
     "output_type": "stream",
     "text": [
      "Valid password\n"
     ]
    }
   ],
   "source": [
    "import re\n",
    "password=input(\"Enter password\")\n",
    "if(len(password)>8):\n",
    "    if(re.search(r\"[A-Z]\",password)):\n",
    "        if(re.search(r\"[a-z]\",password)):\n",
    "            if(re.search(r\"[0-9]\",password)):\n",
    "                if any(char in symbols for char in password):\n",
    "                    print(\"Valid password\")\n",
    "                else:\n",
    "                    print(\"invalid password,symbol is missing\")\n",
    "            else:\n",
    "                print(\"invalid password,digit is missing\")\n",
    "        else:\n",
    "            print(\"invalid password,lowercase letter is missing\")\n",
    "    else:\n",
    "        print(\"invalid password,uppercase letter is missing\")\n",
    "else:\n",
    "    print(\"invalid password\")"
   ]
  },
  {
   "cell_type": "code",
   "execution_count": 15,
   "id": "113b6911",
   "metadata": {},
   "outputs": [
    {
     "name": "stdout",
     "output_type": "stream",
     "text": [
      "5+6=11\n"
     ]
    }
   ],
   "source": [
    "def calculator(num1,op,num2):\n",
    "    match op:\n",
    "        case \"+\":\n",
    "            print(f\"{num1}{op}{num2}={num1+num2}\")\n",
    "        case \"-\":\n",
    "            print(f\"{num1}{op}{num2}={num1-num2}\")\n",
    "        case \"*\":\n",
    "            print(f\"{num1}{op}{num2}={num1*num2}\")\n",
    "        case \"/\":\n",
    "            print(\"invalid operator\")\n",
    "a=int(input(\"Enter num1:\"))\n",
    "b=int(input(\"Enter num2:\"))\n",
    "c=input(\"enter operator:\")\n",
    "calculator(a,c,b)\n",
    "\n",
    "        "
   ]
  },
  {
   "cell_type": "code",
   "execution_count": 24,
   "id": "d4ae504c",
   "metadata": {},
   "outputs": [
    {
     "name": "stdout",
     "output_type": "stream",
     "text": [
      "tarun\n"
     ]
    }
   ],
   "source": [
    "from collections import Counter\n",
    "a=input(\"Enter , seperated student names\").split(\",\")\n",
    "b=dict(Counter(a))\n",
    "for key,value in b.items():\n",
    "    if(value>1):\n",
    "        print(key)\n",
    "    \n"
   ]
  },
  {
   "cell_type": "code",
   "execution_count": 27,
   "id": "fa3aa123",
   "metadata": {},
   "outputs": [
    {
     "name": "stdout",
     "output_type": "stream",
     "text": [
      "the farenheit of 0 degree celcius:32.0F\n"
     ]
    }
   ],
   "source": [
    "c=int(input(\"Enter temperature in celcius:\"))\n",
    "f=(c*9/5)+32\n",
    "print(f\"the farenheit of {c} degree celcius:{f}F\")"
   ]
  },
  {
   "cell_type": "code",
   "execution_count": 31,
   "id": "9eb0bb84",
   "metadata": {},
   "outputs": [
    {
     "name": "stdout",
     "output_type": "stream",
     "text": [
      "maximum of list is : 40\n"
     ]
    }
   ],
   "source": [
    "a=input(\"enter , seperated values:\")\n",
    "l=[int(x) for x in a.split(\",\")]\n",
    "print(\"maximum of list is :\",max(l))"
   ]
  },
  {
   "cell_type": "code",
   "execution_count": null,
   "id": "ac1f656d",
   "metadata": {},
   "outputs": [
    {
     "name": "stdout",
     "output_type": "stream",
     "text": [
      "The simple intrest is: 0.06\n"
     ]
    }
   ],
   "source": [
    "p=int(input(\"Enter principal:\"))\n",
    "t=int(input(\"Enter time:\"))\n",
    "r=int(input(\"Enter rate:\"))\n",
    "si=(p*t*r)/100\n",
    "print(\"The simple intrest is:\",si)"
   ]
  },
  {
   "cell_type": "code",
   "execution_count": 37,
   "id": "6923fbec",
   "metadata": {},
   "outputs": [
    {
     "name": "stdout",
     "output_type": "stream",
     "text": [
      "tarun is defaulter\n",
      "chai is defaulter\n",
      "sami is defaulter\n"
     ]
    }
   ],
   "source": [
    "n=int(input(\"Enter the size :\"))\n",
    "a={input(\"key:\"):input(\"value:\") for _ in range(n)}\n",
    "for key,value in a.items():\n",
    "    if(int(value)<75):\n",
    "        print(f\"{key} is defaulter\")"
   ]
  },
  {
   "cell_type": "code",
   "execution_count": 42,
   "id": "4cbb8c70",
   "metadata": {},
   "outputs": [
    {
     "name": "stdout",
     "output_type": "stream",
     "text": [
      "The total sum of digits: 10\n"
     ]
    }
   ],
   "source": [
    "total=0\n",
    "a=input(\"Enter a number to find the sum of digits:\")\n",
    "for i in a:\n",
    "    total+=int(i)\n",
    "print(\"The total sum of digits:\",total)"
   ]
  },
  {
   "cell_type": "code",
   "execution_count": 44,
   "id": "6e4f5bb7",
   "metadata": {},
   "outputs": [
    {
     "name": "stdout",
     "output_type": "stream",
     "text": [
      "7 is a prime number\n"
     ]
    }
   ],
   "source": [
    "def prime(n):\n",
    "    count=0\n",
    "    for i in range(1,n+1):\n",
    "        if(n%i==0):\n",
    "            count+=1\n",
    "    if count==2:\n",
    "        print(f\"{n} is a prime number\")\n",
    "    else:\n",
    "        print(f\"{n} is not a prime number\")\n",
    "a=int(input(\"Enter a number to check whether it is prime or not:\"))\n",
    "prime(a)\n",
    "\n",
    "\n"
   ]
  },
  {
   "cell_type": "code",
   "execution_count": 46,
   "id": "8ffb9544",
   "metadata": {},
   "outputs": [
    {
     "name": "stdout",
     "output_type": "stream",
     "text": [
      "the samllest value is 4 and the largest value is 30\n"
     ]
    }
   ],
   "source": [
    "a=input(\"Enter , seperated values:\")\n",
    "l=[int(x) for x in a.split(\",\")]\n",
    "b=sorted(l)\n",
    "print(f\"the samllest value is {b[0]} and the largest value is {b[-1]}\")"
   ]
  },
  {
   "cell_type": "code",
   "execution_count": null,
   "id": "26ccc032",
   "metadata": {},
   "outputs": [
    {
     "name": "stdout",
     "output_type": "stream",
     "text": [
      "{'3': '10', '2': '5', '1': '30'}\n",
      "the bill: 70\n"
     ]
    }
   ],
   "source": [
    "total=0\n",
    "n=int(input(\"Enter total number of items:\"))\n",
    "b={input(\"key:\"):input(\"value:\") for _ in range(n)}\n",
    "print(b)\n",
    "for key,value in b.items():\n",
    "    total+=int(key)*int(value)\n",
    "print(\"total bill:\",total)\n",
    "\n"
   ]
  },
  {
   "cell_type": "code",
   "execution_count": 52,
   "id": "5257111d",
   "metadata": {},
   "outputs": [
    {
     "name": "stdout",
     "output_type": "stream",
     "text": [
      "maximum of 40,20,100 is :100\n"
     ]
    }
   ],
   "source": [
    "a=int(input(\"Enter a:\"))\n",
    "b=int(input(\"Enter b:\"))\n",
    "c=int(input(\"Enter c:\"))\n",
    "print(f\"maximum of {a},{b},{c} is :{max(a,b,c)}\")"
   ]
  },
  {
   "cell_type": "code",
   "execution_count": 53,
   "id": "6b825367",
   "metadata": {},
   "outputs": [
    {
     "name": "stdout",
     "output_type": "stream",
     "text": [
      "{'T': 1, 'a': 2, 'r': 2, 'u': 2, 'n': 1, ' ': 1, 'k': 1, 'm': 1}\n"
     ]
    }
   ],
   "source": [
    "from collections import Counter\n",
    "a=input(\"Enter a string:\")\n",
    "print(dict(Counter(a)))"
   ]
  },
  {
   "cell_type": "code",
   "execution_count": 59,
   "id": "faaf8c02",
   "metadata": {},
   "outputs": [
    {
     "name": "stdout",
     "output_type": "stream",
     "text": [
      "Above 200 units → ₹10/unit total bill: 2400\n"
     ]
    }
   ],
   "source": [
    "a=int(input(\"Enter the number of units:\"))\n",
    "if(a<=100):\n",
    "    print(\"First 100 units → ₹5/unit total bill:\",a*5)\n",
    "elif(a>100 and a<=200):\n",
    "    print(\"first 200 units → ₹7/unit total bill:\",(100*5)+((a-100)*7))\n",
    "elif(a>200):\n",
    "    print(\"Above 200 units → ₹10/unit total bill:\",(100*5)+((100)*7)+((a-200)*10))\n",
    "else:\n",
    "    print(\"invalid input\")"
   ]
  },
  {
   "cell_type": "code",
   "execution_count": 60,
   "id": "fabebfbf",
   "metadata": {},
   "outputs": [
    {
     "name": "stdout",
     "output_type": "stream",
     "text": [
      "['four', 'one', 'three', 'two']\n"
     ]
    }
   ],
   "source": [
    "a=input(\"Enter , sperated names:\").split(\",\")\n",
    "print(sorted(a))"
   ]
  },
  {
   "cell_type": "code",
   "execution_count": 61,
   "id": "8a183909",
   "metadata": {},
   "outputs": [
    {
     "name": "stdout",
     "output_type": "stream",
     "text": [
      "reverse of 1234 is 4321\n"
     ]
    }
   ],
   "source": [
    "a=input(\"Enter a number string\")\n",
    "print(f\"reverse of {a} is {a[::-1]}\")"
   ]
  },
  {
   "cell_type": "code",
   "execution_count": 62,
   "id": "256448fc",
   "metadata": {},
   "outputs": [
    {
     "name": "stdout",
     "output_type": "stream",
     "text": [
      "{'zeros': 1, 'positive': 9, 'negative': 9}\n"
     ]
    }
   ],
   "source": [
    "from collections import Counter\n",
    "a=input(\"Enter , seperated number with a mix of +ve,-ve,zeros:\")\n",
    "l=[int(x) for x in a.split(\",\")]\n",
    "b=[]\n",
    "for i in l:\n",
    "    if i==0:\n",
    "        b.append(\"zeros\")\n",
    "    elif i>0:\n",
    "        b.append(\"positive\")\n",
    "    elif i<0:\n",
    "        b.append(\"negative\")\n",
    "print(dict(Counter(b)))\n"
   ]
  },
  {
   "cell_type": "code",
   "execution_count": null,
   "id": "5413201d",
   "metadata": {},
   "outputs": [
    {
     "name": "stdout",
     "output_type": "stream",
     "text": [
      "incorrect pin\n"
     ]
    }
   ],
   "source": [
    "a=input(\"assign the pin:\")\n",
    "n=2\n",
    "for i in range(n+1):\n",
    "    pin=input(\"Enter correct pin:\")\n",
    "    if(pin == a):\n",
    "        print(\"Correct PIN ,Unlocked!\")\n",
    "        break\n",
    "if(pin!=a):\n",
    "    print(\"incorrect pin\")\n",
    "    "
   ]
  },
  {
   "cell_type": "code",
   "execution_count": 5,
   "id": "70e60440",
   "metadata": {},
   "outputs": [
    {
     "name": "stdout",
     "output_type": "stream",
     "text": [
      "division of 10 and 5 is:2.00\n"
     ]
    }
   ],
   "source": [
    "a=int(input(\"Enter numerator:\"))\n",
    "b=int(input(\"Enter denominator:\"))\n",
    "try:\n",
    "    c=a/b\n",
    "    print(f\"division of {a} and {b} is:{c:.2f}\")\n",
    "except Exception as e:\n",
    "    print(e)"
   ]
  },
  {
   "cell_type": "code",
   "execution_count": 6,
   "id": "71c622cd",
   "metadata": {},
   "outputs": [
    {
     "name": "stdout",
     "output_type": "stream",
     "text": [
      "an error occurs:invalid literal for int() with base 10: 'a'\n"
     ]
    }
   ],
   "source": [
    "try:\n",
    "    a=int(input(\"Enter numerator:\"))\n",
    "    b=int(input(\"Enter denominator:\"))\n",
    "    c=a/b\n",
    "    print(f\"division of {a} and {b} is:{c:.2f}\")\n",
    "except (ValueError,ZeroDivisionError) as e:\n",
    "    print(f\"an error occurs:{e}\")"
   ]
  },
  {
   "cell_type": "code",
   "execution_count": 8,
   "id": "5e20702b",
   "metadata": {},
   "outputs": [
    {
     "name": "stdout",
     "output_type": "stream",
     "text": [
      "insufficient balance\n"
     ]
    }
   ],
   "source": [
    "class LowBalanceError(Exception):\n",
    "    pass\n",
    "try:\n",
    "    a=int(input(\"total balance:\"))\n",
    "    b=int(input(\"Enter Withdrawl amount:\"))\n",
    "    if b>a:\n",
    "        raise LowBalanceError(\"insufficient balance\")\n",
    "    else:\n",
    "        print(f\"amount withdrawen {b} remaining balance {b-a}\")\n",
    "except Exception as e:\n",
    "    print(e)\n",
    "    "
   ]
  },
  {
   "cell_type": "code",
   "execution_count": null,
   "id": "30ff08ee",
   "metadata": {},
   "outputs": [
    {
     "ename": "NameError",
     "evalue": "name 'f' is not defined",
     "output_type": "error",
     "traceback": [
      "\u001b[1;31m---------------------------------------------------------------------------\u001b[0m",
      "\u001b[1;31mValueError\u001b[0m                                Traceback (most recent call last)",
      "Cell \u001b[1;32mIn[10], line 2\u001b[0m\n\u001b[0;32m      1\u001b[0m \u001b[38;5;28;01mtry\u001b[39;00m:\n\u001b[1;32m----> 2\u001b[0m     a\u001b[38;5;241m=\u001b[39m\u001b[38;5;28mint\u001b[39m(\u001b[38;5;28minput\u001b[39m(\u001b[38;5;124m\"\u001b[39m\u001b[38;5;124mEnter the number of units:\u001b[39m\u001b[38;5;124m\"\u001b[39m))\n\u001b[0;32m      3\u001b[0m     \u001b[38;5;28;01mif\u001b[39;00m(a\u001b[38;5;241m<\u001b[39m\u001b[38;5;241m=\u001b[39m\u001b[38;5;241m100\u001b[39m):\n",
      "\u001b[1;31mValueError\u001b[0m: invalid literal for int() with base 10: 'a'",
      "\nDuring handling of the above exception, another exception occurred:\n",
      "\u001b[1;31mNameError\u001b[0m                                 Traceback (most recent call last)",
      "Cell \u001b[1;32mIn[10], line 15\u001b[0m\n\u001b[0;32m     13\u001b[0m         \u001b[38;5;28mprint\u001b[39m(\u001b[38;5;124m\"\u001b[39m\u001b[38;5;124minvalid input\u001b[39m\u001b[38;5;124m\"\u001b[39m)\n\u001b[0;32m     14\u001b[0m \u001b[38;5;28;01mexcept\u001b[39;00m \u001b[38;5;167;01mValueError\u001b[39;00m \u001b[38;5;28;01mas\u001b[39;00m e:\n\u001b[1;32m---> 15\u001b[0m     \u001b[38;5;28mprint\u001b[39m(\u001b[38;5;124mf\u001b[39m\u001b[38;5;124m\"\u001b[39m\u001b[38;5;124mError occurs \u001b[39m\u001b[38;5;132;01m{\u001b[39;00mf\u001b[38;5;132;01m}\u001b[39;00m\u001b[38;5;124m\"\u001b[39m)\n",
      "\u001b[1;31mNameError\u001b[0m: name 'f' is not defined"
     ]
    }
   ],
   "source": [
    "try:\n",
    "    a=int(input(\"Enter the number of units:\"))\n",
    "    if(a<=100):\n",
    "        print(\"First 100 units → ₹5/unit total bill:\",a*5)\n",
    "        print(\"Bill processing Finished\")\n",
    "    elif(a>100 and a<=200):\n",
    "        print(\"first 200 units → ₹7/unit total bill:\",(100*5)+((a-100)*7))\n",
    "        print(\"Bill processing Finished\")\n",
    "    elif(a>200):\n",
    "        print(\"Above 200 units → ₹10/unit total bill:\",(100*5)+((100)*7)+((a-200)*10))\n",
    "        print(\"Bill processing Finished\")\n",
    "    else:\n",
    "        print(\"invalid input\")\n",
    "except ValueError as e:\n",
    "    print(f\"Error occurs {e}\")\n",
    "    "
   ]
  }
 ],
 "metadata": {
  "kernelspec": {
   "display_name": "base",
   "language": "python",
   "name": "python3"
  },
  "language_info": {
   "codemirror_mode": {
    "name": "ipython",
    "version": 3
   },
   "file_extension": ".py",
   "mimetype": "text/x-python",
   "name": "python",
   "nbconvert_exporter": "python",
   "pygments_lexer": "ipython3",
   "version": "3.12.7"
  }
 },
 "nbformat": 4,
 "nbformat_minor": 5
}
